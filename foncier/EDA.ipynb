{
 "cells": [
  {
   "cell_type": "markdown",
   "id": "bd6e6ac0-e7eb-4b0f-9187-756b8158d7c8",
   "metadata": {
    "execution": {
     "iopub.execute_input": "2023-03-10T12:57:02.334571Z",
     "iopub.status.busy": "2023-03-10T12:57:02.334229Z",
     "iopub.status.idle": "2023-03-10T12:57:02.341615Z",
     "shell.execute_reply": "2023-03-10T12:57:02.338127Z",
     "shell.execute_reply.started": "2023-03-10T12:57:02.334533Z"
    },
    "tags": []
   },
   "source": [
    "# Annalyse exploratoire demande de valeur foncière "
   ]
  },
  {
   "cell_type": "markdown",
   "id": "f7697f6a-3597-4ca5-bcb9-ac0f966883f4",
   "metadata": {},
   "source": [
    "## Traitement du fichier"
   ]
  },
  {
   "cell_type": "code",
   "execution_count": 6,
   "id": "55a7b625-9e8d-42f1-9005-6fee637f80ba",
   "metadata": {
    "execution": {
     "iopub.execute_input": "2023-03-08T13:31:53.092391Z",
     "iopub.status.busy": "2023-03-08T13:31:53.091759Z",
     "iopub.status.idle": "2023-03-08T13:31:53.744200Z",
     "shell.execute_reply": "2023-03-08T13:31:53.743469Z",
     "shell.execute_reply.started": "2023-03-08T13:31:53.092338Z"
    },
    "tags": []
   },
   "outputs": [
    {
     "name": "stderr",
     "output_type": "stream",
     "text": [
      "/tmp/ipykernel_10033/1558499264.py:6: DtypeWarning: Columns (17,18) have mixed types. Specify dtype option on import or set low_memory=False.\n",
      "  data_raw = pd.read_csv(dvf_file,sep=\";\")\n"
     ]
    }
   ],
   "source": [
    "import pandas as pd\n",
    "import seaborn as sns\n",
    "import matplotlib.pyplot as plt\n",
    "\n",
    "\n",
    "dvf_file = \"demande-de-valeurs-foncieres-geolocalisee-a-la-reunion.csv\"\n",
    "data_raw = pd.read_csv(dvf_file,sep=\";\")"
   ]
  },
  {
   "attachments": {},
   "cell_type": "markdown",
   "id": "2ffb64f5",
   "metadata": {},
   "source": [
    "## Première annalyse "
   ]
  },
  {
   "cell_type": "code",
   "execution_count": 45,
   "id": "012b0b60",
   "metadata": {},
   "outputs": [
    {
     "name": "stdout",
     "output_type": "stream",
     "text": [
      "<class 'pandas.core.frame.DataFrame'>\n",
      "RangeIndex: 492416 entries, 0 to 492415\n",
      "Data columns (total 46 columns):\n",
      " #   Column                                        Non-Null Count   Dtype  \n",
      "---  ------                                        --------------   -----  \n",
      " 0   Identifiant de mutation (Etalab)              492416 non-null  object \n",
      " 1   Date de la mutation                           492416 non-null  object \n",
      " 2   Numéro de disposition                         492416 non-null  int64  \n",
      " 3   Nature de la mutation                         492416 non-null  object \n",
      " 4   Valeur foncière                               491226 non-null  float64\n",
      " 5   Numéro de voie                                398673 non-null  float64\n",
      " 6   Suffixe du numéro (bis/ter)                   45066 non-null   object \n",
      " 7   Nom de la voie                                488874 non-null  object \n",
      " 8   Code Fantoir/Rivoli de la voie                489613 non-null  object \n",
      " 9   Code postal                                   488624 non-null  float64\n",
      " 10  Code INSEE de la commune                      492416 non-null  int64  \n",
      " 11  Nom de la commune                             492416 non-null  object \n",
      " 12  Code INSEE du département                     492416 non-null  int64  \n",
      " 13  Ancien code de la commune                     0 non-null       float64\n",
      " 14  Ancien nom de la commune                      0 non-null       float64\n",
      " 15  Identifiant de la parcelle cadastrale         492416 non-null  object \n",
      " 16  Ancien identifiant de la parcelle cadastrale  0 non-null       float64\n",
      " 17  Numéro du volume                              2703 non-null    object \n",
      " 18  Numéro du lot 1                               218044 non-null  object \n",
      " 19  Surface Carrez du lot 1                       62886 non-null   float64\n",
      " 20  Numéro du lot 2                               5561 non-null    float64\n",
      " 21  Surface Carrez du lot 2                       1269 non-null    float64\n",
      " 22  Numéro du lot 3                               1721 non-null    float64\n",
      " 23  Surface Carrez du lot 3                       278 non-null     float64\n",
      " 24  Numéro du lot 4                               606 non-null     float64\n",
      " 25  Surface Carrez du lot 4                       132 non-null     float64\n",
      " 26  Numéro du lot 5                               431 non-null     float64\n",
      " 27  Surface Carrez du lot 5                       68 non-null      float64\n",
      " 28  Nombre de lots                                492416 non-null  int64  \n",
      " 29  Code du type de local                         337280 non-null  float64\n",
      " 30  Type de local                                 337280 non-null  object \n",
      " 31  Surface réelle du bâti                        227595 non-null  float64\n",
      " 32  Nombre de pièces principales                  336974 non-null  float64\n",
      " 33  Code de la nature de culture                  267881 non-null  object \n",
      " 34  Nature de culture                             267881 non-null  object \n",
      " 35  Code de la nature de culture spéciale         4997 non-null    object \n",
      " 36  Nature de culture spéciale                    4997 non-null    object \n",
      " 37  Surface du terrain                            267854 non-null  float64\n",
      " 38  Longitude                                     482516 non-null  float64\n",
      " 39  Latitude                                      482516 non-null  float64\n",
      " 40  Code Officiel EPCI                            479941 non-null  float64\n",
      " 41  Nom Officiel EPCI                             479941 non-null  object \n",
      " 42  Nom du département                            492416 non-null  object \n",
      " 43  Code INSEE de la région                       492416 non-null  int64  \n",
      " 44  Nom de la région                              492416 non-null  object \n",
      " 45  Géolocalisation                               482516 non-null  object \n",
      "dtypes: float64(22), int64(5), object(19)\n",
      "memory usage: 172.8+ MB\n"
     ]
    }
   ],
   "source": [
    "# Quels sont les colonnes? \n",
    "data_raw.info()"
   ]
  },
  {
   "cell_type": "code",
   "execution_count": 49,
   "id": "e22d3778",
   "metadata": {},
   "outputs": [
    {
     "data": {
      "text/plain": [
       "array(['Vente', 'Vente terrain à bâtir',\n",
       "       \"Vente en l'état futur d'achèvement\", 'Expropriation', 'Echange',\n",
       "       'Adjudication'], dtype=object)"
      ]
     },
     "execution_count": 49,
     "metadata": {},
     "output_type": "execute_result"
    }
   ],
   "source": [
    "# Quels sont les valeurs prises par : nature_mutation\n",
    "data_raw[\"Nature de la mutation\"].unique()"
   ]
  },
  {
   "cell_type": "code",
   "execution_count": 50,
   "id": "b4cd38b6",
   "metadata": {},
   "outputs": [
    {
     "data": {
      "text/plain": [
       "array(['Maison', nan, 'Appartement', 'Dépendance',\n",
       "       'Local industriel. commercial ou assimilé'], dtype=object)"
      ]
     },
     "execution_count": 50,
     "metadata": {},
     "output_type": "execute_result"
    }
   ],
   "source": [
    "# Quels sont les valeurs prises par : Type de local\n",
    "data_raw[\"Type de local\"].unique()"
   ]
  },
  {
   "cell_type": "code",
   "execution_count": 51,
   "id": "c2cc02f8",
   "metadata": {},
   "outputs": [
    {
     "data": {
      "text/plain": [
       "array(['sols', 'terrains a bâtir', nan, 'terres', 'bois', 'landes',\n",
       "       \"terrains d'agrément\", 'prés', 'jardins', 'taillis simples',\n",
       "       'pâtures', 'vergers', 'futaies résineuses', 'vignes',\n",
       "       'futaies feuillues', 'eaux'], dtype=object)"
      ]
     },
     "execution_count": 51,
     "metadata": {},
     "output_type": "execute_result"
    }
   ],
   "source": [
    "# Quels sont les valeurs prises par : Nature de culture\n",
    "data_raw[\"Nature de culture\"].unique()"
   ]
  },
  {
   "cell_type": "code",
   "execution_count": 52,
   "id": "107c42ff",
   "metadata": {},
   "outputs": [
    {
     "data": {
      "text/plain": [
       "array(['S', 'AB', nan, 'T', 'B', 'L', 'AG', 'P', 'J', 'BT', 'PA', 'VE',\n",
       "       'BR', 'VI', 'BF', 'E'], dtype=object)"
      ]
     },
     "execution_count": 52,
     "metadata": {},
     "output_type": "execute_result"
    }
   ],
   "source": [
    "# Quels sont les valeurs prises par : Code de la nature de culture\n",
    "data_raw[\"Code de la nature de culture\"].unique()"
   ]
  },
  {
   "cell_type": "code",
   "execution_count": 60,
   "id": "23f309b7",
   "metadata": {},
   "outputs": [
    {
     "data": {
      "text/plain": [
       "count           492416\n",
       "unique           55301\n",
       "top       2020-1411804\n",
       "freq              2160\n",
       "Name: Identifiant de mutation (Etalab), dtype: object"
      ]
     },
     "execution_count": 60,
     "metadata": {},
     "output_type": "execute_result"
    }
   ],
   "source": [
    "# Nombre de mutation distincts \n",
    "data_raw[\"Identifiant de mutation (Etalab)\"].describe()\n"
   ]
  },
  {
   "cell_type": "code",
   "execution_count": null,
   "id": "d2dff5b4",
   "metadata": {},
   "outputs": [],
   "source": [
    "# Quel est la transaction ayant impliqué le plus de mutation \n"
   ]
  },
  {
   "cell_type": "code",
   "execution_count": 39,
   "id": "0f1c6671",
   "metadata": {},
   "outputs": [],
   "source": [
    "# Selection des ventes uniquements\n",
    "mask1 = data[\"Nature de la mutation\"] == \"Vente\"\n",
    "\n",
    "# Selection des Ventes concernant des maisons ou des appartements\n",
    "mask2 = (data[\"Type de local\"] == \"Maison\") | (data[\"Type de local\"] == \"Appartement\")"
   ]
  },
  {
   "cell_type": "code",
   "execution_count": 40,
   "id": "c589fa61",
   "metadata": {},
   "outputs": [
    {
     "data": {
      "text/plain": [
       "array(['Maison', 'Appartement'], dtype=object)"
      ]
     },
     "execution_count": 40,
     "metadata": {},
     "output_type": "execute_result"
    }
   ],
   "source": [
    "data_raw.loc[mask1 & mask2,\"Type de local\"].unique()"
   ]
  },
  {
   "cell_type": "markdown",
   "id": "e53db731-0268-43ed-b7f2-4da1a96e7225",
   "metadata": {},
   "source": [
    "## Nettoyage du fichier "
   ]
  },
  {
   "cell_type": "markdown",
   "id": "4dad2344-4372-4b51-827f-09926eb4dcaa",
   "metadata": {},
   "source": [
    "### "
   ]
  }
 ],
 "metadata": {
  "kernelspec": {
   "display_name": "base",
   "language": "python",
   "name": "python3"
  },
  "language_info": {
   "codemirror_mode": {
    "name": "ipython",
    "version": 3
   },
   "file_extension": ".py",
   "mimetype": "text/x-python",
   "name": "python",
   "nbconvert_exporter": "python",
   "pygments_lexer": "ipython3",
   "version": "3.8.16"
  },
  "vscode": {
   "interpreter": {
    "hash": "ec83889880d348e4cec7576575c25ea63040d0f1f7bdbc35ce74b44a05f77670"
   }
  }
 },
 "nbformat": 4,
 "nbformat_minor": 5
}
