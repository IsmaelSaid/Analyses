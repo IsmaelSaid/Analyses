{
 "cells": [
  {
   "cell_type": "code",
   "execution_count": 1,
   "id": "f79fa36e-a6c7-411d-a00d-d654bc351ca3",
   "metadata": {
    "execution": {
     "iopub.execute_input": "2023-02-23T05:23:05.484755Z",
     "iopub.status.busy": "2023-02-23T05:23:05.484293Z",
     "iopub.status.idle": "2023-02-23T05:23:05.978520Z",
     "shell.execute_reply": "2023-02-23T05:23:05.977622Z",
     "shell.execute_reply.started": "2023-02-23T05:23:05.484715Z"
    },
    "tags": []
   },
   "outputs": [],
   "source": [
    "import pandas as pd "
   ]
  },
  {
   "cell_type": "code",
   "execution_count": null,
   "id": "c2c37b9e-ef2d-4fe4-a19a-7ce319663af9",
   "metadata": {},
   "outputs": [],
   "source": []
  },
  {
   "cell_type": "code",
   "execution_count": 39,
   "id": "bdda4bf9-f58b-4b89-8774-0be2e88fdc2c",
   "metadata": {
    "execution": {
     "iopub.execute_input": "2023-02-23T05:31:54.372491Z",
     "iopub.status.busy": "2023-02-23T05:31:54.370323Z",
     "iopub.status.idle": "2023-02-23T05:31:54.391137Z",
     "shell.execute_reply": "2023-02-23T05:31:54.390087Z",
     "shell.execute_reply.started": "2023-02-23T05:31:54.372374Z"
    },
    "tags": []
   },
   "outputs": [
    {
     "data": {
      "text/html": [
       "<div>\n",
       "<style scoped>\n",
       "    .dataframe tbody tr th:only-of-type {\n",
       "        vertical-align: middle;\n",
       "    }\n",
       "\n",
       "    .dataframe tbody tr th {\n",
       "        vertical-align: top;\n",
       "    }\n",
       "\n",
       "    .dataframe thead th {\n",
       "        text-align: right;\n",
       "    }\n",
       "</style>\n",
       "<table border=\"1\" class=\"dataframe\">\n",
       "  <thead>\n",
       "    <tr style=\"text-align: right;\">\n",
       "      <th></th>\n",
       "      <th>Mois</th>\n",
       "      <th>Hommes</th>\n",
       "      <th>Femmes</th>\n",
       "      <th>Total</th>\n",
       "    </tr>\n",
       "  </thead>\n",
       "  <tbody>\n",
       "    <tr>\n",
       "      <th>319</th>\n",
       "      <td>Août 2022</td>\n",
       "      <td>84 170</td>\n",
       "      <td>92 970</td>\n",
       "      <td>177 140</td>\n",
       "    </tr>\n",
       "    <tr>\n",
       "      <th>320</th>\n",
       "      <td>Septembre 2022</td>\n",
       "      <td>84 040</td>\n",
       "      <td>92 940</td>\n",
       "      <td>176 990</td>\n",
       "    </tr>\n",
       "    <tr>\n",
       "      <th>321</th>\n",
       "      <td>Octobre 2022</td>\n",
       "      <td>83 640</td>\n",
       "      <td>92 630</td>\n",
       "      <td>176 270</td>\n",
       "    </tr>\n",
       "    <tr>\n",
       "      <th>322</th>\n",
       "      <td>Novembre 2022</td>\n",
       "      <td>83 650</td>\n",
       "      <td>92 570</td>\n",
       "      <td>176 220</td>\n",
       "    </tr>\n",
       "    <tr>\n",
       "      <th>323</th>\n",
       "      <td>Décembre 2022</td>\n",
       "      <td>83 030</td>\n",
       "      <td>91 050</td>\n",
       "      <td>174 070</td>\n",
       "    </tr>\n",
       "  </tbody>\n",
       "</table>\n",
       "</div>"
      ],
      "text/plain": [
       "               Mois   Hommes   Femmes     Total\n",
       "319       Août 2022   84 170   92 970   177 140\n",
       "320  Septembre 2022   84 040   92 940   176 990\n",
       "321    Octobre 2022   83 640   92 630   176 270\n",
       "322   Novembre 2022   83 650   92 570   176 220\n",
       "323   Décembre 2022   83 030   91 050   174 070"
      ]
     },
     "execution_count": 39,
     "metadata": {},
     "output_type": "execute_result"
    }
   ],
   "source": [
    "filename = \"Demandeurs d’emploi inscrits en fin de mois à Pôle emploi par Sexe - La Réunion.csv\"\n",
    "data = pd.read_csv(filename,skiprows=3,sep=\";\",skipfooter=1,engine='python')\n",
    "data.tail()"
   ]
  },
  {
   "cell_type": "code",
   "execution_count": 41,
   "id": "3c4a56a0-453e-4a0f-86ff-c961251e426b",
   "metadata": {
    "execution": {
     "iopub.execute_input": "2023-02-23T05:32:28.513716Z",
     "iopub.status.busy": "2023-02-23T05:32:28.513356Z",
     "iopub.status.idle": "2023-02-23T05:32:28.542839Z",
     "shell.execute_reply": "2023-02-23T05:32:28.541378Z",
     "shell.execute_reply.started": "2023-02-23T05:32:28.513682Z"
    },
    "tags": []
   },
   "outputs": [
    {
     "data": {
      "text/html": [
       "<div>\n",
       "<style scoped>\n",
       "    .dataframe tbody tr th:only-of-type {\n",
       "        vertical-align: middle;\n",
       "    }\n",
       "\n",
       "    .dataframe tbody tr th {\n",
       "        vertical-align: top;\n",
       "    }\n",
       "\n",
       "    .dataframe thead th {\n",
       "        text-align: right;\n",
       "    }\n",
       "</style>\n",
       "<table border=\"1\" class=\"dataframe\">\n",
       "  <thead>\n",
       "    <tr style=\"text-align: right;\">\n",
       "      <th></th>\n",
       "      <th>Mois</th>\n",
       "      <th>Hommes</th>\n",
       "      <th>Femmes</th>\n",
       "      <th>Total</th>\n",
       "    </tr>\n",
       "  </thead>\n",
       "  <tbody>\n",
       "    <tr>\n",
       "      <th>0</th>\n",
       "      <td>01/1996</td>\n",
       "      <td>50 610</td>\n",
       "      <td>51 530</td>\n",
       "      <td>102 140</td>\n",
       "    </tr>\n",
       "    <tr>\n",
       "      <th>1</th>\n",
       "      <td>02/1996</td>\n",
       "      <td>51 510</td>\n",
       "      <td>52 160</td>\n",
       "      <td>103 670</td>\n",
       "    </tr>\n",
       "    <tr>\n",
       "      <th>2</th>\n",
       "      <td>03/1996</td>\n",
       "      <td>51 650</td>\n",
       "      <td>52 220</td>\n",
       "      <td>103 870</td>\n",
       "    </tr>\n",
       "    <tr>\n",
       "      <th>3</th>\n",
       "      <td>04/1996</td>\n",
       "      <td>52 080</td>\n",
       "      <td>52 180</td>\n",
       "      <td>104 250</td>\n",
       "    </tr>\n",
       "    <tr>\n",
       "      <th>4</th>\n",
       "      <td>05/1996</td>\n",
       "      <td>52 140</td>\n",
       "      <td>51 790</td>\n",
       "      <td>103 940</td>\n",
       "    </tr>\n",
       "    <tr>\n",
       "      <th>...</th>\n",
       "      <td>...</td>\n",
       "      <td>...</td>\n",
       "      <td>...</td>\n",
       "      <td>...</td>\n",
       "    </tr>\n",
       "    <tr>\n",
       "      <th>319</th>\n",
       "      <td>08/2022</td>\n",
       "      <td>84 170</td>\n",
       "      <td>92 970</td>\n",
       "      <td>177 140</td>\n",
       "    </tr>\n",
       "    <tr>\n",
       "      <th>320</th>\n",
       "      <td>09/2022</td>\n",
       "      <td>84 040</td>\n",
       "      <td>92 940</td>\n",
       "      <td>176 990</td>\n",
       "    </tr>\n",
       "    <tr>\n",
       "      <th>321</th>\n",
       "      <td>10/2022</td>\n",
       "      <td>83 640</td>\n",
       "      <td>92 630</td>\n",
       "      <td>176 270</td>\n",
       "    </tr>\n",
       "    <tr>\n",
       "      <th>322</th>\n",
       "      <td>11/2022</td>\n",
       "      <td>83 650</td>\n",
       "      <td>92 570</td>\n",
       "      <td>176 220</td>\n",
       "    </tr>\n",
       "    <tr>\n",
       "      <th>323</th>\n",
       "      <td>12/2022</td>\n",
       "      <td>83 030</td>\n",
       "      <td>91 050</td>\n",
       "      <td>174 070</td>\n",
       "    </tr>\n",
       "  </tbody>\n",
       "</table>\n",
       "<p>324 rows × 4 columns</p>\n",
       "</div>"
      ],
      "text/plain": [
       "        Mois   Hommes   Femmes     Total\n",
       "0    01/1996   50 610   51 530   102 140\n",
       "1    02/1996   51 510   52 160   103 670\n",
       "2    03/1996   51 650   52 220   103 870\n",
       "3    04/1996   52 080   52 180   104 250\n",
       "4    05/1996   52 140   51 790   103 940\n",
       "..       ...      ...      ...       ...\n",
       "319  08/2022   84 170   92 970   177 140\n",
       "320  09/2022   84 040   92 940   176 990\n",
       "321  10/2022   83 640   92 630   176 270\n",
       "322  11/2022   83 650   92 570   176 220\n",
       "323  12/2022   83 030   91 050   174 070\n",
       "\n",
       "[324 rows x 4 columns]"
      ]
     },
     "execution_count": 41,
     "metadata": {},
     "output_type": "execute_result"
    }
   ],
   "source": [
    "data[[\"Mois\"]] = pd.DataFrame(pd.date_range(start=\"1-1996\",end=\"1-2023\",freq=\"M\",name= \"Mois\").strftime(\"%m/%Y\"))\n",
    "data"
   ]
  },
  {
   "cell_type": "code",
   "execution_count": 45,
   "id": "8008b088-c7a3-4a6f-b5c8-d6a7e76b1f34",
   "metadata": {
    "execution": {
     "iopub.execute_input": "2023-02-23T05:33:22.832407Z",
     "iopub.status.busy": "2023-02-23T05:33:22.831993Z",
     "iopub.status.idle": "2023-02-23T05:33:22.839437Z",
     "shell.execute_reply": "2023-02-23T05:33:22.838539Z",
     "shell.execute_reply.started": "2023-02-23T05:33:22.832367Z"
    },
    "tags": []
   },
   "outputs": [],
   "source": [
    "data.to_csv(\"demandeurs d'emploi par sexe proc.csv\",index=False)"
   ]
  },
  {
   "cell_type": "code",
   "execution_count": null,
   "id": "6c5336e2-d621-4151-9523-a3490cb7bd5e",
   "metadata": {},
   "outputs": [],
   "source": []
  }
 ],
 "metadata": {
  "kernelspec": {
   "display_name": "Python 3 (ipykernel)",
   "language": "python",
   "name": "python3"
  },
  "language_info": {
   "codemirror_mode": {
    "name": "ipython",
    "version": 3
   },
   "file_extension": ".py",
   "mimetype": "text/x-python",
   "name": "python",
   "nbconvert_exporter": "python",
   "pygments_lexer": "ipython3",
   "version": "3.8.16"
  }
 },
 "nbformat": 4,
 "nbformat_minor": 5
}
