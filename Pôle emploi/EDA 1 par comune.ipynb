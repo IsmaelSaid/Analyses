{
 "cells": [
  {
   "cell_type": "markdown",
   "metadata": {
    "tags": []
   },
   "source": [
    "# Exploratory Data Analysis "
   ]
  },
  {
   "cell_type": "code",
   "execution_count": null,
   "metadata": {
    "execution": {
     "iopub.execute_input": "2023-02-24T16:48:35.775129Z",
     "iopub.status.busy": "2023-02-24T16:48:35.774259Z",
     "iopub.status.idle": "2023-02-24T16:48:37.099060Z",
     "shell.execute_reply": "2023-02-24T16:48:37.098156Z",
     "shell.execute_reply.started": "2023-02-24T16:48:35.775054Z"
    },
    "tags": []
   },
   "outputs": [],
   "source": [
    "import pandas as pd \n",
    "import re\n",
    "import matplotlib.pyplot as plt\n",
    "import seaborn as sns \n",
    "import numpy as np"
   ]
  },
  {
   "cell_type": "markdown",
   "metadata": {
    "tags": []
   },
   "source": [
    "## Traitement du fichier"
   ]
  },
  {
   "cell_type": "markdown",
   "metadata": {
    "tags": []
   },
   "source": [
    "### Chargement du fichier"
   ]
  },
  {
   "cell_type": "code",
   "execution_count": null,
   "metadata": {
    "execution": {
     "iopub.execute_input": "2023-02-24T16:48:37.101677Z",
     "iopub.status.busy": "2023-02-24T16:48:37.100661Z",
     "iopub.status.idle": "2023-02-24T16:48:37.132689Z",
     "shell.execute_reply": "2023-02-24T16:48:37.131780Z",
     "shell.execute_reply.started": "2023-02-24T16:48:37.101615Z"
    },
    "scrolled": true,
    "tags": [
     "hide-output"
    ]
   },
   "outputs": [],
   "source": [
    "filename = \"Demandeurs d’emploi inscrits en fin de mois à Pôle emploi par Comune.csv\"\n",
    "\n",
    "data = pd.read_csv(filename,\n",
    "                   sep=\";\",\n",
    "                   skiprows=3,\n",
    "                   engine='python',\n",
    "                   skipfooter=1)\n",
    "# On va supprimer la dernère la colonnes des communes de moins 500 habs\n",
    "data = data.iloc[:,0:25]\n",
    "\n",
    "data = data.applymap(lambda x: x.replace(\" \",\"\"))"
   ]
  },
  {
   "cell_type": "markdown",
   "metadata": {},
   "source": [
    "### Standardisation des dates"
   ]
  },
  {
   "cell_type": "code",
   "execution_count": null,
   "metadata": {
    "execution": {
     "iopub.execute_input": "2023-02-24T16:48:37.134159Z",
     "iopub.status.busy": "2023-02-24T16:48:37.133806Z",
     "iopub.status.idle": "2023-02-24T16:48:37.147836Z",
     "shell.execute_reply": "2023-02-24T16:48:37.146625Z",
     "shell.execute_reply.started": "2023-02-24T16:48:37.134116Z"
    },
    "tags": []
   },
   "outputs": [],
   "source": [
    "new_months = pd.date_range(start=\"6-2016\", end=\"12-2022\",name = \"Mois\",freq=\"M\")\n",
    "new_months = new_months.strftime(\"%Y\")"
   ]
  },
  {
   "cell_type": "markdown",
   "metadata": {},
   "source": [
    "### Standardisation des codes postaux "
   ]
  },
  {
   "cell_type": "code",
   "execution_count": null,
   "metadata": {
    "execution": {
     "iopub.execute_input": "2023-02-24T16:48:37.150848Z",
     "iopub.status.busy": "2023-02-24T16:48:37.150315Z",
     "iopub.status.idle": "2023-02-24T16:48:37.158465Z",
     "shell.execute_reply": "2023-02-24T16:48:37.157176Z",
     "shell.execute_reply.started": "2023-02-24T16:48:37.150808Z"
    },
    "tags": []
   },
   "outputs": [],
   "source": [
    "# Expression régulière pour isoler les codes postaux\n",
    "# D'abord on a besoin d'isoler les cp\n",
    "# Ensuite on isole les données\n",
    "\n",
    "all_but_first = data.columns != \"Mois\"\n",
    "data.columns[all_but_first]\n",
    "\n",
    "def keep_only_cp(x):\n",
    "    return re.search(\"\\d{5}\",x).group(0)\n",
    "\n",
    "cp_standard = [keep_only_cp(column) for column in data.columns[all_but_first]]"
   ]
  },
  {
   "cell_type": "code",
   "execution_count": null,
   "metadata": {
    "execution": {
     "iopub.execute_input": "2023-02-24T16:48:37.160689Z",
     "iopub.status.busy": "2023-02-24T16:48:37.160103Z",
     "iopub.status.idle": "2023-02-24T16:48:37.168764Z",
     "shell.execute_reply": "2023-02-24T16:48:37.167351Z",
     "shell.execute_reply.started": "2023-02-24T16:48:37.160616Z"
    },
    "tags": []
   },
   "outputs": [],
   "source": [
    "new_data = pd.DataFrame(data.iloc[:,all_but_first].values,new_months)\n",
    "new_data.columns = cp_standard\n",
    "x = new_data.astype('int32')"
   ]
  },
  {
   "cell_type": "code",
   "execution_count": null,
   "metadata": {
    "execution": {
     "iopub.execute_input": "2023-02-24T16:48:37.170485Z",
     "iopub.status.busy": "2023-02-24T16:48:37.170093Z",
     "iopub.status.idle": "2023-02-24T16:48:37.188005Z",
     "shell.execute_reply": "2023-02-24T16:48:37.185168Z",
     "shell.execute_reply.started": "2023-02-24T16:48:37.170449Z"
    },
    "tags": []
   },
   "outputs": [],
   "source": [
    "x.to_csv(\"data_proc.csv\")"
   ]
  },
  {
   "cell_type": "markdown",
   "metadata": {
    "tags": []
   },
   "source": [
    "## Quelques visualisations"
   ]
  },
  {
   "cell_type": "code",
   "execution_count": null,
   "metadata": {
    "execution": {
     "iopub.execute_input": "2023-02-24T16:48:37.193223Z",
     "iopub.status.busy": "2023-02-24T16:48:37.192483Z",
     "iopub.status.idle": "2023-02-24T16:48:37.999078Z",
     "shell.execute_reply": "2023-02-24T16:48:37.998109Z",
     "shell.execute_reply.started": "2023-02-24T16:48:37.193129Z"
    },
    "tags": []
   },
   "outputs": [],
   "source": [
    "fig, ax = plt.subplots()\n",
    "std = x.apply(np.std,axis=1)\n",
    "sns.lineplot(ax=ax, data = std)\n",
    "plt.title(\"Evolution du nombre de demandeurs d'emploi actif actif à la Réunion \\n Pôle emploi\")\n",
    "plt.xlabel(\"Date\")\n",
    "plt.ylabel(\"Nombre moyen de demandeurs d'emploi\")\n",
    "plt.show()\n"
   ]
  }
 ],
 "metadata": {
  "kernelspec": {
   "display_name": "Python 3 (ipykernel)",
   "language": "python",
   "name": "python3"
  },
  "language_info": {
   "codemirror_mode": {
    "name": "ipython",
    "version": 3
   },
   "file_extension": ".py",
   "mimetype": "text/x-python",
   "name": "python",
   "nbconvert_exporter": "python",
   "pygments_lexer": "ipython3",
   "version": "3.10.6"
  },
  "toc-autonumbering": true,
  "toc-showcode": false,
  "toc-showtags": false,
  "vscode": {
   "interpreter": {
    "hash": "916dbcbb3f70747c44a77c7bcd40155683ae19c65e1c03b4aa3499c5328201f1"
   }
  }
 },
 "nbformat": 4,
 "nbformat_minor": 4
}
