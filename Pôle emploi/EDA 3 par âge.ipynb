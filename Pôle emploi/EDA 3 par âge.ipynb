{
 "cells": [
  {
   "cell_type": "code",
   "execution_count": 1,
   "id": "2a240ffd-fe2e-4199-bafd-92b5f4b67c7a",
   "metadata": {
    "execution": {
     "iopub.execute_input": "2023-02-23T07:26:20.896783Z",
     "iopub.status.busy": "2023-02-23T07:26:20.895491Z",
     "iopub.status.idle": "2023-02-23T07:26:21.390895Z",
     "shell.execute_reply": "2023-02-23T07:26:21.389990Z",
     "shell.execute_reply.started": "2023-02-23T07:26:20.896702Z"
    },
    "tags": []
   },
   "outputs": [],
   "source": [
    "import pandas as pd"
   ]
  },
  {
   "cell_type": "code",
   "execution_count": 2,
   "id": "97509e1b-72c7-4215-87a3-35c25fb4d40f",
   "metadata": {
    "execution": {
     "iopub.execute_input": "2023-02-23T07:27:00.439839Z",
     "iopub.status.busy": "2023-02-23T07:27:00.439385Z",
     "iopub.status.idle": "2023-02-23T07:27:00.460417Z",
     "shell.execute_reply": "2023-02-23T07:27:00.459479Z",
     "shell.execute_reply.started": "2023-02-23T07:27:00.439796Z"
    },
    "tags": []
   },
   "outputs": [
    {
     "data": {
      "text/html": [
       "<div>\n",
       "<style scoped>\n",
       "    .dataframe tbody tr th:only-of-type {\n",
       "        vertical-align: middle;\n",
       "    }\n",
       "\n",
       "    .dataframe tbody tr th {\n",
       "        vertical-align: top;\n",
       "    }\n",
       "\n",
       "    .dataframe thead th {\n",
       "        text-align: right;\n",
       "    }\n",
       "</style>\n",
       "<table border=\"1\" class=\"dataframe\">\n",
       "  <thead>\n",
       "    <tr style=\"text-align: right;\">\n",
       "      <th></th>\n",
       "      <th>Mois</th>\n",
       "      <th>Moins de 25 ans</th>\n",
       "      <th>De 25 à 49 ans</th>\n",
       "      <th>50 ans ou plus</th>\n",
       "      <th>Total</th>\n",
       "    </tr>\n",
       "  </thead>\n",
       "  <tbody>\n",
       "    <tr>\n",
       "      <th>319</th>\n",
       "      <td>Août 2022</td>\n",
       "      <td>24 990</td>\n",
       "      <td>100 690</td>\n",
       "      <td>51 460</td>\n",
       "      <td>177 140</td>\n",
       "    </tr>\n",
       "    <tr>\n",
       "      <th>320</th>\n",
       "      <td>Septembre 2022</td>\n",
       "      <td>25 260</td>\n",
       "      <td>100 440</td>\n",
       "      <td>51 290</td>\n",
       "      <td>176 990</td>\n",
       "    </tr>\n",
       "    <tr>\n",
       "      <th>321</th>\n",
       "      <td>Octobre 2022</td>\n",
       "      <td>25 190</td>\n",
       "      <td>99 880</td>\n",
       "      <td>51 210</td>\n",
       "      <td>176 270</td>\n",
       "    </tr>\n",
       "    <tr>\n",
       "      <th>322</th>\n",
       "      <td>Novembre 2022</td>\n",
       "      <td>25 150</td>\n",
       "      <td>99 860</td>\n",
       "      <td>51 210</td>\n",
       "      <td>176 220</td>\n",
       "    </tr>\n",
       "    <tr>\n",
       "      <th>323</th>\n",
       "      <td>Décembre 2022</td>\n",
       "      <td>24 240</td>\n",
       "      <td>98 720</td>\n",
       "      <td>51 110</td>\n",
       "      <td>174 070</td>\n",
       "    </tr>\n",
       "  </tbody>\n",
       "</table>\n",
       "</div>"
      ],
      "text/plain": [
       "               Mois Moins de 25 ans De 25 à 49 ans 50 ans ou plus     Total\n",
       "319       Août 2022          24 990        100 690         51 460   177 140\n",
       "320  Septembre 2022          25 260        100 440         51 290   176 990\n",
       "321    Octobre 2022          25 190         99 880         51 210   176 270\n",
       "322   Novembre 2022          25 150         99 860         51 210   176 220\n",
       "323   Décembre 2022          24 240         98 720         51 110   174 070"
      ]
     },
     "execution_count": 2,
     "metadata": {},
     "output_type": "execute_result"
    }
   ],
   "source": [
    "filename = \"Demandeurs d’emploi inscrits en fin de mois à Pôle emploi par Tranche d'âge - Région _ La Réunion - .csv\"\n",
    "data = pd.read_csv(filename,skiprows=3,sep=\";\",skipfooter=1,engine='python')\n",
    "data.tail()"
   ]
  },
  {
   "cell_type": "code",
   "execution_count": 3,
   "id": "020ef631-f81e-491a-8c5b-ceb9f5fc96dd",
   "metadata": {
    "execution": {
     "iopub.execute_input": "2023-02-23T07:28:01.816607Z",
     "iopub.status.busy": "2023-02-23T07:28:01.815586Z",
     "iopub.status.idle": "2023-02-23T07:28:01.836142Z",
     "shell.execute_reply": "2023-02-23T07:28:01.834158Z",
     "shell.execute_reply.started": "2023-02-23T07:28:01.816546Z"
    },
    "tags": []
   },
   "outputs": [],
   "source": [
    "data[[\"Mois\"]] = pd.DataFrame(pd.date_range(start=\"1-1996\",end=\"1-2023\",freq=\"M\",name= \"Mois\").strftime(\"%m/%Y\"))"
   ]
  },
  {
   "cell_type": "code",
   "execution_count": 4,
   "id": "adfa2f2c-f73d-475a-8d59-9cbb499880f5",
   "metadata": {
    "execution": {
     "iopub.execute_input": "2023-02-23T07:32:12.726691Z",
     "iopub.status.busy": "2023-02-23T07:32:12.724682Z",
     "iopub.status.idle": "2023-02-23T07:32:12.741456Z",
     "shell.execute_reply": "2023-02-23T07:32:12.740079Z",
     "shell.execute_reply.started": "2023-02-23T07:32:12.726582Z"
    },
    "tags": []
   },
   "outputs": [],
   "source": [
    "data.to_csv(\"demandeurs d'emploi par age.csv\",index=False)"
   ]
  }
 ],
 "metadata": {
  "kernelspec": {
   "display_name": "base",
   "language": "python",
   "name": "python3"
  },
  "language_info": {
   "codemirror_mode": {
    "name": "ipython",
    "version": 3
   },
   "file_extension": ".py",
   "mimetype": "text/x-python",
   "name": "python",
   "nbconvert_exporter": "python",
   "pygments_lexer": "ipython3",
   "version": "3.8.16"
  },
  "vscode": {
   "interpreter": {
    "hash": "ec83889880d348e4cec7576575c25ea63040d0f1f7bdbc35ce74b44a05f77670"
   }
  }
 },
 "nbformat": 4,
 "nbformat_minor": 5
}
