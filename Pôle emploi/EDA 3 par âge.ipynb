{
 "cells": [
  {
   "cell_type": "code",
   "execution_count": 11,
   "id": "2a240ffd-fe2e-4199-bafd-92b5f4b67c7a",
   "metadata": {
    "execution": {
     "iopub.execute_input": "2023-02-23T07:26:20.896783Z",
     "iopub.status.busy": "2023-02-23T07:26:20.895491Z",
     "iopub.status.idle": "2023-02-23T07:26:21.390895Z",
     "shell.execute_reply": "2023-02-23T07:26:21.389990Z",
     "shell.execute_reply.started": "2023-02-23T07:26:20.896702Z"
    },
    "tags": []
   },
   "outputs": [],
   "source": [
    "import pandas as pd"
   ]
  },
  {
   "cell_type": "code",
   "execution_count": 12,
   "id": "97509e1b-72c7-4215-87a3-35c25fb4d40f",
   "metadata": {
    "execution": {
     "iopub.execute_input": "2023-02-23T07:27:00.439839Z",
     "iopub.status.busy": "2023-02-23T07:27:00.439385Z",
     "iopub.status.idle": "2023-02-23T07:27:00.460417Z",
     "shell.execute_reply": "2023-02-23T07:27:00.459479Z",
     "shell.execute_reply.started": "2023-02-23T07:27:00.439796Z"
    },
    "tags": []
   },
   "outputs": [
    {
     "data": {
      "text/html": [
       "<div>\n",
       "<style scoped>\n",
       "    .dataframe tbody tr th:only-of-type {\n",
       "        vertical-align: middle;\n",
       "    }\n",
       "\n",
       "    .dataframe tbody tr th {\n",
       "        vertical-align: top;\n",
       "    }\n",
       "\n",
       "    .dataframe thead th {\n",
       "        text-align: right;\n",
       "    }\n",
       "</style>\n",
       "<table border=\"1\" class=\"dataframe\">\n",
       "  <thead>\n",
       "    <tr style=\"text-align: right;\">\n",
       "      <th></th>\n",
       "      <th>Mois</th>\n",
       "      <th>Moins de 25 ans</th>\n",
       "      <th>De 25 à 49 ans</th>\n",
       "      <th>50 ans ou plus</th>\n",
       "      <th>Total</th>\n",
       "    </tr>\n",
       "  </thead>\n",
       "  <tbody>\n",
       "    <tr>\n",
       "      <th>0</th>\n",
       "      <td>31/01/1996</td>\n",
       "      <td>24 590</td>\n",
       "      <td>71 290</td>\n",
       "      <td>6 260</td>\n",
       "      <td>102 140</td>\n",
       "    </tr>\n",
       "    <tr>\n",
       "      <th>1</th>\n",
       "      <td>29/02/1996</td>\n",
       "      <td>25 000</td>\n",
       "      <td>72 300</td>\n",
       "      <td>6 380</td>\n",
       "      <td>103 670</td>\n",
       "    </tr>\n",
       "    <tr>\n",
       "      <th>2</th>\n",
       "      <td>31/03/1996</td>\n",
       "      <td>24 950</td>\n",
       "      <td>72 550</td>\n",
       "      <td>6 370</td>\n",
       "      <td>103 870</td>\n",
       "    </tr>\n",
       "    <tr>\n",
       "      <th>3</th>\n",
       "      <td>30/04/1996</td>\n",
       "      <td>24 790</td>\n",
       "      <td>73 010</td>\n",
       "      <td>6 460</td>\n",
       "      <td>104 250</td>\n",
       "    </tr>\n",
       "    <tr>\n",
       "      <th>4</th>\n",
       "      <td>31/05/1996</td>\n",
       "      <td>24 560</td>\n",
       "      <td>72 970</td>\n",
       "      <td>6 410</td>\n",
       "      <td>103 940</td>\n",
       "    </tr>\n",
       "    <tr>\n",
       "      <th>5</th>\n",
       "      <td>30/06/1996</td>\n",
       "      <td>24 400</td>\n",
       "      <td>72 890</td>\n",
       "      <td>6 450</td>\n",
       "      <td>103 740</td>\n",
       "    </tr>\n",
       "    <tr>\n",
       "      <th>6</th>\n",
       "      <td>31/07/1996</td>\n",
       "      <td>25 210</td>\n",
       "      <td>73 620</td>\n",
       "      <td>6 530</td>\n",
       "      <td>105 350</td>\n",
       "    </tr>\n",
       "    <tr>\n",
       "      <th>7</th>\n",
       "      <td>31/08/1996</td>\n",
       "      <td>26 110</td>\n",
       "      <td>74 370</td>\n",
       "      <td>6 600</td>\n",
       "      <td>107 080</td>\n",
       "    </tr>\n",
       "    <tr>\n",
       "      <th>8</th>\n",
       "      <td>30/09/1996</td>\n",
       "      <td>26 730</td>\n",
       "      <td>74 250</td>\n",
       "      <td>6 670</td>\n",
       "      <td>107 640</td>\n",
       "    </tr>\n",
       "    <tr>\n",
       "      <th>9</th>\n",
       "      <td>31/10/1996</td>\n",
       "      <td>26 830</td>\n",
       "      <td>75 050</td>\n",
       "      <td>6 810</td>\n",
       "      <td>108 690</td>\n",
       "    </tr>\n",
       "  </tbody>\n",
       "</table>\n",
       "</div>"
      ],
      "text/plain": [
       "         Mois Moins de 25 ans De 25 à 49 ans 50 ans ou plus     Total\n",
       "0  31/01/1996          24 590         71 290          6 260   102 140\n",
       "1  29/02/1996          25 000         72 300          6 380   103 670\n",
       "2  31/03/1996          24 950         72 550          6 370   103 870\n",
       "3  30/04/1996          24 790         73 010          6 460   104 250\n",
       "4  31/05/1996          24 560         72 970          6 410   103 940\n",
       "5  30/06/1996          24 400         72 890          6 450   103 740\n",
       "6  31/07/1996          25 210         73 620          6 530   105 350\n",
       "7  31/08/1996          26 110         74 370          6 600   107 080\n",
       "8  30/09/1996          26 730         74 250          6 670   107 640\n",
       "9  31/10/1996          26 830         75 050          6 810   108 690"
      ]
     },
     "execution_count": 12,
     "metadata": {},
     "output_type": "execute_result"
    }
   ],
   "source": [
    "filename = \"Demandeurs d’emploi inscrits en fin de mois à Pôle emploi par Tranche d'âge - Région _ La Réunion - .csv\"\n",
    "data = pd.read_csv(filename,skiprows=3,sep=\";\",skipfooter=1,engine='python')\n",
    "data[[\"Mois\"]] = pd.DataFrame(pd.date_range(start=\"01-1996\",end=\"01-2023\",freq=\"M\",name= \"Mois\").strftime(\"%d/%m/%Y\"))\n",
    "data.head(10)"
   ]
  },
  {
   "cell_type": "code",
   "execution_count": 13,
   "id": "adfa2f2c-f73d-475a-8d59-9cbb499880f5",
   "metadata": {
    "execution": {
     "iopub.execute_input": "2023-02-23T07:32:12.726691Z",
     "iopub.status.busy": "2023-02-23T07:32:12.724682Z",
     "iopub.status.idle": "2023-02-23T07:32:12.741456Z",
     "shell.execute_reply": "2023-02-23T07:32:12.740079Z",
     "shell.execute_reply.started": "2023-02-23T07:32:12.726582Z"
    },
    "tags": []
   },
   "outputs": [],
   "source": [
    "data.to_csv(\"data_par_age.csv\",index=False)"
   ]
  }
 ],
 "metadata": {
  "kernelspec": {
   "display_name": "base",
   "language": "python",
   "name": "python3"
  },
  "language_info": {
   "codemirror_mode": {
    "name": "ipython",
    "version": 3
   },
   "file_extension": ".py",
   "mimetype": "text/x-python",
   "name": "python",
   "nbconvert_exporter": "python",
   "pygments_lexer": "ipython3",
   "version": "3.8.16"
  },
  "vscode": {
   "interpreter": {
    "hash": "ec83889880d348e4cec7576575c25ea63040d0f1f7bdbc35ce74b44a05f77670"
   }
  }
 },
 "nbformat": 4,
 "nbformat_minor": 5
}
