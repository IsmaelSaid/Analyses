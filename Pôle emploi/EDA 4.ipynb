{
 "cells": [
  {
   "cell_type": "code",
   "execution_count": 23,
   "id": "bd2cc79b-c29c-4f98-968c-f45db9b1de13",
   "metadata": {
    "execution": {
     "iopub.execute_input": "2023-02-23T08:51:31.463831Z",
     "iopub.status.busy": "2023-02-23T08:51:31.463153Z",
     "iopub.status.idle": "2023-02-23T08:51:31.468315Z",
     "shell.execute_reply": "2023-02-23T08:51:31.466955Z",
     "shell.execute_reply.started": "2023-02-23T08:51:31.463789Z"
    },
    "tags": []
   },
   "outputs": [],
   "source": [
    "import pandas as pd"
   ]
  },
  {
   "cell_type": "code",
   "execution_count": 24,
   "id": "ad5bc001-1b9e-4df3-9656-8f2a44036fd2",
   "metadata": {
    "execution": {
     "iopub.execute_input": "2023-02-23T08:51:32.035661Z",
     "iopub.status.busy": "2023-02-23T08:51:32.035324Z",
     "iopub.status.idle": "2023-02-23T08:51:32.071634Z",
     "shell.execute_reply": "2023-02-23T08:51:32.070416Z",
     "shell.execute_reply.started": "2023-02-23T08:51:32.035632Z"
    },
    "tags": []
   },
   "outputs": [],
   "source": [
    "filename = \"Demandeurs d’emploi inscrits en fin de mois à Pôle emploi par Niveau de formation - Région _ La Réun.csv\"\n",
    "data = pd.read_csv(filename,skiprows=3,sep=\";\",skipfooter=1,engine='python')\n",
    "data[[\"Mois\"]] = pd.DataFrame(pd.date_range(start=\"1-1996\",end=\"1-2023\",freq=\"M\",name= \"Mois\").strftime(\"%m/%Y\"))"
   ]
  },
  {
   "cell_type": "code",
   "execution_count": 25,
   "id": "c7c87350-5565-44af-9d27-20909ed9b5cc",
   "metadata": {
    "execution": {
     "iopub.execute_input": "2023-02-23T08:51:32.787923Z",
     "iopub.status.busy": "2023-02-23T08:51:32.787255Z",
     "iopub.status.idle": "2023-02-23T08:51:32.806063Z",
     "shell.execute_reply": "2023-02-23T08:51:32.804662Z",
     "shell.execute_reply.started": "2023-02-23T08:51:32.787875Z"
    },
    "tags": []
   },
   "outputs": [],
   "source": [
    "data = data.iloc[-50,:]"
   ]
  },
  {
   "cell_type": "code",
   "execution_count": 21,
   "id": "ed434358-097a-4d11-b5bd-62e9999d9199",
   "metadata": {
    "execution": {
     "iopub.execute_input": "2023-02-23T08:51:18.702390Z",
     "iopub.status.busy": "2023-02-23T08:51:18.700123Z",
     "iopub.status.idle": "2023-02-23T08:51:18.718365Z",
     "shell.execute_reply": "2023-02-23T08:51:18.716960Z",
     "shell.execute_reply.started": "2023-02-23T08:51:18.702261Z"
    },
    "tags": []
   },
   "outputs": [
    {
     "data": {
      "text/plain": [
       "Mois                              11/2018\n",
       "Non renseigné                         130\n",
       "Niveau supérieur à Bac+2           11 490\n",
       "Niveau Bac+2                       15 920\n",
       "Niveau Bac                         37 540\n",
       "Niveau BEP, CAP                    67 770\n",
       "Niveau CEP, BEPC                   14 700\n",
       "Niveau inférieur au CEP, BEPC      34 480\n",
       "Total                             182 040\n",
       "Name: 274, dtype: object"
      ]
     },
     "execution_count": 21,
     "metadata": {},
     "output_type": "execute_result"
    }
   ],
   "source": [
    "datat"
   ]
  },
  {
   "cell_type": "code",
   "execution_count": null,
   "id": "96004e40-d72a-4e01-adc4-69d57ec29bb1",
   "metadata": {},
   "outputs": [],
   "source": []
  }
 ],
 "metadata": {
  "kernelspec": {
   "display_name": "Python 3 (ipykernel)",
   "language": "python",
   "name": "python3"
  },
  "language_info": {
   "codemirror_mode": {
    "name": "ipython",
    "version": 3
   },
   "file_extension": ".py",
   "mimetype": "text/x-python",
   "name": "python",
   "nbconvert_exporter": "python",
   "pygments_lexer": "ipython3",
   "version": "3.8.16"
  }
 },
 "nbformat": 4,
 "nbformat_minor": 5
}
