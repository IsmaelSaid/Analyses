{
 "cells": [
  {
   "cell_type": "markdown",
   "id": "1254109e-b6d9-495c-91c3-64a852eff393",
   "metadata": {},
   "source": [
    "# **Réseaux de transports à la Réunion**"
   ]
  },
  {
   "cell_type": "code",
   "execution_count": 1,
   "id": "877936a6-36f9-4d45-a741-0f504c2cb24f",
   "metadata": {
    "execution": {
     "iopub.execute_input": "2023-02-26T12:05:08.626398Z",
     "iopub.status.busy": "2023-02-26T12:05:08.625927Z",
     "iopub.status.idle": "2023-02-26T12:05:09.073492Z",
     "shell.execute_reply": "2023-02-26T12:05:09.072651Z",
     "shell.execute_reply.started": "2023-02-26T12:05:08.626351Z"
    },
    "tags": []
   },
   "outputs": [],
   "source": [
    "import pandas as pd\n",
    "from google.transit import gtfs_realtime_pb2\n",
    "import requests"
   ]
  },
  {
   "cell_type": "markdown",
   "id": "a3b81427-0325-4f5d-8fc1-fa2e23bc0110",
   "metadata": {
    "tags": []
   },
   "source": [
    "## **Parsing GTFS real-time TripUpdate messages**"
   ]
  },
  {
   "cell_type": "markdown",
   "id": "69c57bcf-5fd0-4171-aebf-fc9cf90c4aab",
   "metadata": {
    "jp-MarkdownHeadingCollapsed": true,
    "tags": []
   },
   "source": [
    "### TripDescriptor"
   ]
  },
  {
   "cell_type": "code",
   "execution_count": 2,
   "id": "0a1f2c6d-9de3-4bec-965b-efec7aad5988",
   "metadata": {
    "execution": {
     "iopub.execute_input": "2023-02-26T12:21:51.285501Z",
     "iopub.status.busy": "2023-02-26T12:21:51.284123Z",
     "iopub.status.idle": "2023-02-26T12:21:51.310469Z",
     "shell.execute_reply": "2023-02-26T12:21:51.306585Z",
     "shell.execute_reply.started": "2023-02-26T12:21:51.285351Z"
    },
    "tags": []
   },
   "outputs": [],
   "source": [
    "def parse_feed_trip(feed_entity):\n",
    "    trips = dict()\n",
    "    trip = {\n",
    "        \"trip_id\" : feed_entity.trip_update.trip.trip_id,\n",
    "        \"route_id\" : feed_entity.trip_update.trip.route_id,\n",
    "        \"direction_id\" : feed_entity.trip_update.trip.direction_id,\n",
    "        \"start_time\" : feed_entity.trip_update.trip.start_time,\n",
    "        \"start_date\" : feed_entity.trip_update.trip.start_date,\n",
    "        \"schedule_relationship\" : feed_entity.trip_update.trip.schedule_relationship\n",
    "    }\n",
    "    trips[entity.trip_update.trip.trip_id] = trip\n",
    "    return (trip)\n",
    "    \n",
    "    "
   ]
  },
  {
   "cell_type": "markdown",
   "id": "fc3f8d33-d126-4377-86b0-ae865c0b8d05",
   "metadata": {
    "tags": []
   },
   "source": [
    "### VehicleDescriptor"
   ]
  },
  {
   "cell_type": "code",
   "execution_count": 3,
   "id": "44f6d08f-96cf-40e6-a5ec-bee3b2df0aff",
   "metadata": {
    "execution": {
     "iopub.status.busy": "2023-02-26T12:02:39.544819Z",
     "iopub.status.idle": "2023-02-26T12:02:39.545673Z",
     "shell.execute_reply": "2023-02-26T12:02:39.545272Z",
     "shell.execute_reply.started": "2023-02-26T12:02:39.545225Z"
    },
    "tags": []
   },
   "outputs": [],
   "source": [
    "def parse_feed_vehicle(entity):\n",
    "    vehicle = {\n",
    "        \"vehicle_id\" : entity.trip_update.vehicle.id,\n",
    "        \"vehicle_label\" : entity.trip_update.vehicle.label,\n",
    "        \"vehicle_license_plate \" : entity.trip_update.vehicle.license_plate\n",
    "    }\n",
    "    return (vehicle)"
   ]
  },
  {
   "cell_type": "markdown",
   "id": "d03dd271-9a13-4b46-bd92-057263e51d96",
   "metadata": {
    "jp-MarkdownHeadingCollapsed": true,
    "tags": []
   },
   "source": [
    "### StopTimeUpdate "
   ]
  },
  {
   "cell_type": "markdown",
   "id": "21279ea8-5530-4734-a352-6e59f0409305",
   "metadata": {},
   "source": [
    "## **Parsing GTFS VehiclePosition messages**"
   ]
  },
  {
   "cell_type": "markdown",
   "id": "8d7b2e9e-aef0-4fc2-8523-a7b0d643fb3c",
   "metadata": {},
   "source": [
    "### Position"
   ]
  },
  {
   "cell_type": "code",
   "execution_count": 4,
   "id": "e71bedb4-1bca-4d12-ba42-27a0288cbf7f",
   "metadata": {
    "execution": {
     "iopub.execute_input": "2023-02-26T13:13:00.743921Z",
     "iopub.status.busy": "2023-02-26T13:13:00.743358Z",
     "iopub.status.idle": "2023-02-26T13:13:00.761642Z",
     "shell.execute_reply": "2023-02-26T13:13:00.760151Z",
     "shell.execute_reply.started": "2023-02-26T13:13:00.743861Z"
    },
    "tags": []
   },
   "outputs": [],
   "source": [
    "def parse_feed_position(entity):\n",
    "    position = {\n",
    "        \"latitude\" : entity.vehicle.position.latitude,\n",
    "        \"longitude\" : entity.vehicle.position.longitude,\n",
    "        \"bearing\" : entity.vehicle.position.bearing\n",
    "    }\n",
    "    return (position)"
   ]
  },
  {
   "cell_type": "markdown",
   "id": "28388ab2-bac5-4d0e-9404-dad5b00fab37",
   "metadata": {},
   "source": [
    "## Position en temps réele des bus alterneo "
   ]
  },
  {
   "cell_type": "code",
   "execution_count": 9,
   "id": "09d22d1f-5f49-447b-8997-ea14d23f345b",
   "metadata": {
    "execution": {
     "iopub.execute_input": "2023-02-26T13:27:39.934584Z",
     "iopub.status.busy": "2023-02-26T13:27:39.933000Z",
     "iopub.status.idle": "2023-02-26T13:27:42.245181Z",
     "shell.execute_reply": "2023-02-26T13:27:42.244279Z",
     "shell.execute_reply.started": "2023-02-26T13:27:39.934508Z"
    },
    "tags": []
   },
   "outputs": [],
   "source": [
    "vehicles = dict()\n",
    "feed = gtfs_realtime_pb2.FeedMessage()\n",
    "response = requests.get('https://proxy.transport.data.gouv.fr/resource/alterneo-civis-gtfs-rt-vehicle-position')\n",
    "\n",
    "feed.ParseFromString(response.content)\n",
    "for entity in feed.entity:\n",
    "    if entity.HasField('vehicle'):\n",
    "        vehicle = {\n",
    "            \"position\":parse_feed_position(entity)\n",
    "        }\n",
    "    vehicles[entity.id] = vehicle"
   ]
  },
  {
   "cell_type": "code",
   "execution_count": 10,
   "id": "58268d68-9a17-46bc-8859-1ad6bac0ec7e",
   "metadata": {
    "execution": {
     "iopub.execute_input": "2023-02-26T13:27:42.247575Z",
     "iopub.status.busy": "2023-02-26T13:27:42.247134Z",
     "iopub.status.idle": "2023-02-26T13:27:42.252788Z",
     "shell.execute_reply": "2023-02-26T13:27:42.251731Z",
     "shell.execute_reply.started": "2023-02-26T13:27:42.247534Z"
    },
    "tags": []
   },
   "outputs": [],
   "source": [
    "all_vehicles = [v for v in vehicles.values()]"
   ]
  },
  {
   "cell_type": "code",
   "execution_count": 11,
   "id": "e37cfcec-3b62-46eb-8aa6-841b976dfedc",
   "metadata": {
    "execution": {
     "iopub.execute_input": "2023-02-26T13:27:42.254746Z",
     "iopub.status.busy": "2023-02-26T13:27:42.254117Z",
     "iopub.status.idle": "2023-02-26T13:27:42.261147Z",
     "shell.execute_reply": "2023-02-26T13:27:42.260169Z",
     "shell.execute_reply.started": "2023-02-26T13:27:42.254692Z"
    },
    "tags": []
   },
   "outputs": [
    {
     "data": {
      "text/html": [
       "<div>\n",
       "<style scoped>\n",
       "    .dataframe tbody tr th:only-of-type {\n",
       "        vertical-align: middle;\n",
       "    }\n",
       "\n",
       "    .dataframe tbody tr th {\n",
       "        vertical-align: top;\n",
       "    }\n",
       "\n",
       "    .dataframe thead th {\n",
       "        text-align: right;\n",
       "    }\n",
       "</style>\n",
       "<table border=\"1\" class=\"dataframe\">\n",
       "  <thead>\n",
       "    <tr style=\"text-align: right;\">\n",
       "      <th></th>\n",
       "      <th>latitude</th>\n",
       "      <th>longitude</th>\n",
       "      <th>bearing</th>\n",
       "    </tr>\n",
       "  </thead>\n",
       "  <tbody>\n",
       "    <tr>\n",
       "      <th>0</th>\n",
       "      <td>-21.306221</td>\n",
       "      <td>55.426483</td>\n",
       "      <td>146.0</td>\n",
       "    </tr>\n",
       "    <tr>\n",
       "      <th>1</th>\n",
       "      <td>-21.341715</td>\n",
       "      <td>55.473049</td>\n",
       "      <td>200.0</td>\n",
       "    </tr>\n",
       "    <tr>\n",
       "      <th>2</th>\n",
       "      <td>-21.325361</td>\n",
       "      <td>55.446918</td>\n",
       "      <td>303.0</td>\n",
       "    </tr>\n",
       "    <tr>\n",
       "      <th>3</th>\n",
       "      <td>-21.175911</td>\n",
       "      <td>55.455757</td>\n",
       "      <td>345.0</td>\n",
       "    </tr>\n",
       "    <tr>\n",
       "      <th>4</th>\n",
       "      <td>-21.264576</td>\n",
       "      <td>55.437824</td>\n",
       "      <td>305.0</td>\n",
       "    </tr>\n",
       "  </tbody>\n",
       "</table>\n",
       "</div>"
      ],
      "text/plain": [
       "    latitude  longitude  bearing\n",
       "0 -21.306221  55.426483    146.0\n",
       "1 -21.341715  55.473049    200.0\n",
       "2 -21.325361  55.446918    303.0\n",
       "3 -21.175911  55.455757    345.0\n",
       "4 -21.264576  55.437824    305.0"
      ]
     },
     "execution_count": 11,
     "metadata": {},
     "output_type": "execute_result"
    }
   ],
   "source": [
    "vehicles_position = pd.DataFrame([v.get(\"position\") for v in all_vehicles])\n",
    "vehicles_position.head(5)"
   ]
  },
  {
   "cell_type": "code",
   "execution_count": 12,
   "id": "bd718b63-5063-4d14-993a-080782898892",
   "metadata": {
    "execution": {
     "iopub.execute_input": "2023-02-26T13:27:42.277056Z",
     "iopub.status.busy": "2023-02-26T13:27:42.276295Z",
     "iopub.status.idle": "2023-02-26T13:27:42.322573Z",
     "shell.execute_reply": "2023-02-26T13:27:42.320781Z",
     "shell.execute_reply.started": "2023-02-26T13:27:42.277004Z"
    },
    "tags": []
   },
   "outputs": [
    {
     "data": {
      "text/html": [
       "<div style=\"width:100%;\"><div style=\"position:relative;width:100%;height:0;padding-bottom:60%;\"><span style=\"color:#565656\">Make this Notebook Trusted to load map: File -> Trust Notebook</span><iframe srcdoc=\"&lt;!DOCTYPE html&gt;\n",
       "&lt;html&gt;\n",
       "&lt;head&gt;\n",
       "    \n",
       "    &lt;meta http-equiv=&quot;content-type&quot; content=&quot;text/html; charset=UTF-8&quot; /&gt;\n",
       "    \n",
       "        &lt;script&gt;\n",
       "            L_NO_TOUCH = false;\n",
       "            L_DISABLE_3D = false;\n",
       "        &lt;/script&gt;\n",
       "    \n",
       "    &lt;style&gt;html, body {width: 100%;height: 100%;margin: 0;padding: 0;}&lt;/style&gt;\n",
       "    &lt;style&gt;#map {position:absolute;top:0;bottom:0;right:0;left:0;}&lt;/style&gt;\n",
       "    &lt;script src=&quot;https://cdn.jsdelivr.net/npm/leaflet@1.9.3/dist/leaflet.js&quot;&gt;&lt;/script&gt;\n",
       "    &lt;script src=&quot;https://code.jquery.com/jquery-1.12.4.min.js&quot;&gt;&lt;/script&gt;\n",
       "    &lt;script src=&quot;https://cdn.jsdelivr.net/npm/bootstrap@5.2.2/dist/js/bootstrap.bundle.min.js&quot;&gt;&lt;/script&gt;\n",
       "    &lt;script src=&quot;https://cdnjs.cloudflare.com/ajax/libs/Leaflet.awesome-markers/2.0.2/leaflet.awesome-markers.js&quot;&gt;&lt;/script&gt;\n",
       "    &lt;link rel=&quot;stylesheet&quot; href=&quot;https://cdn.jsdelivr.net/npm/leaflet@1.9.3/dist/leaflet.css&quot;/&gt;\n",
       "    &lt;link rel=&quot;stylesheet&quot; href=&quot;https://cdn.jsdelivr.net/npm/bootstrap@5.2.2/dist/css/bootstrap.min.css&quot;/&gt;\n",
       "    &lt;link rel=&quot;stylesheet&quot; href=&quot;https://netdna.bootstrapcdn.com/bootstrap/3.0.0/css/bootstrap.min.css&quot;/&gt;\n",
       "    &lt;link rel=&quot;stylesheet&quot; href=&quot;https://cdn.jsdelivr.net/npm/@fortawesome/fontawesome-free@6.2.0/css/all.min.css&quot;/&gt;\n",
       "    &lt;link rel=&quot;stylesheet&quot; href=&quot;https://cdnjs.cloudflare.com/ajax/libs/Leaflet.awesome-markers/2.0.2/leaflet.awesome-markers.css&quot;/&gt;\n",
       "    &lt;link rel=&quot;stylesheet&quot; href=&quot;https://cdn.jsdelivr.net/gh/python-visualization/folium/folium/templates/leaflet.awesome.rotate.min.css&quot;/&gt;\n",
       "    \n",
       "            &lt;meta name=&quot;viewport&quot; content=&quot;width=device-width,\n",
       "                initial-scale=1.0, maximum-scale=1.0, user-scalable=no&quot; /&gt;\n",
       "            &lt;style&gt;\n",
       "                #map_8e12ffaa33915a49d2704d8de0e77fae {\n",
       "                    position: relative;\n",
       "                    width: 100.0%;\n",
       "                    height: 100.0%;\n",
       "                    left: 0.0%;\n",
       "                    top: 0.0%;\n",
       "                }\n",
       "                .leaflet-container { font-size: 1rem; }\n",
       "            &lt;/style&gt;\n",
       "        \n",
       "&lt;/head&gt;\n",
       "&lt;body&gt;\n",
       "    \n",
       "    \n",
       "            &lt;div class=&quot;folium-map&quot; id=&quot;map_8e12ffaa33915a49d2704d8de0e77fae&quot; &gt;&lt;/div&gt;\n",
       "        \n",
       "&lt;/body&gt;\n",
       "&lt;script&gt;\n",
       "    \n",
       "    \n",
       "            var map_8e12ffaa33915a49d2704d8de0e77fae = L.map(\n",
       "                &quot;map_8e12ffaa33915a49d2704d8de0e77fae&quot;,\n",
       "                {\n",
       "                    center: [-21.34, 55.56],\n",
       "                    crs: L.CRS.EPSG3857,\n",
       "                    zoom: 13,\n",
       "                    zoomControl: true,\n",
       "                    preferCanvas: false,\n",
       "                }\n",
       "            );\n",
       "\n",
       "            \n",
       "\n",
       "        \n",
       "    \n",
       "            var tile_layer_30cdacd6f9fbc8c12d2045e3410e6486 = L.tileLayer(\n",
       "                &quot;https://{s}.tile.openstreetmap.org/{z}/{x}/{y}.png&quot;,\n",
       "                {&quot;attribution&quot;: &quot;Data by \\u0026copy; \\u003ca target=\\&quot;_blank\\&quot; href=\\&quot;http://openstreetmap.org\\&quot;\\u003eOpenStreetMap\\u003c/a\\u003e, under \\u003ca target=\\&quot;_blank\\&quot; href=\\&quot;http://www.openstreetmap.org/copyright\\&quot;\\u003eODbL\\u003c/a\\u003e.&quot;, &quot;detectRetina&quot;: false, &quot;maxNativeZoom&quot;: 18, &quot;maxZoom&quot;: 18, &quot;minZoom&quot;: 0, &quot;noWrap&quot;: false, &quot;opacity&quot;: 1, &quot;subdomains&quot;: &quot;abc&quot;, &quot;tms&quot;: false}\n",
       "            ).addTo(map_8e12ffaa33915a49d2704d8de0e77fae);\n",
       "        \n",
       "    \n",
       "            var marker_0c208f098f607d928e9d4b124eab2169 = L.marker(\n",
       "                [-21.30622100830078, 55.426483154296875],\n",
       "                {}\n",
       "            ).addTo(map_8e12ffaa33915a49d2704d8de0e77fae);\n",
       "        \n",
       "    \n",
       "            var marker_a5ad43ac4ffd1b537a3420a3cef9556b = L.marker(\n",
       "                [-21.34171485900879, 55.47304916381836],\n",
       "                {}\n",
       "            ).addTo(map_8e12ffaa33915a49d2704d8de0e77fae);\n",
       "        \n",
       "    \n",
       "            var marker_18ad370cf114c6077cfd622f9af712f8 = L.marker(\n",
       "                [-21.325361251831055, 55.44691848754883],\n",
       "                {}\n",
       "            ).addTo(map_8e12ffaa33915a49d2704d8de0e77fae);\n",
       "        \n",
       "    \n",
       "            var marker_1cd0d01ffb44db8c1397e8ba4303ad78 = L.marker(\n",
       "                [-21.17591094970703, 55.45575714111328],\n",
       "                {}\n",
       "            ).addTo(map_8e12ffaa33915a49d2704d8de0e77fae);\n",
       "        \n",
       "    \n",
       "            var marker_e92e5305b5a2cdf56391ec82a2981f7c = L.marker(\n",
       "                [-21.264575958251953, 55.43782424926758],\n",
       "                {}\n",
       "            ).addTo(map_8e12ffaa33915a49d2704d8de0e77fae);\n",
       "        \n",
       "    \n",
       "            var marker_902c821edcf5f921fb84391b7c7f689f = L.marker(\n",
       "                [-21.20948028564453, 55.40550231933594],\n",
       "                {}\n",
       "            ).addTo(map_8e12ffaa33915a49d2704d8de0e77fae);\n",
       "        \n",
       "    \n",
       "            var marker_45def0ddd5d0eb9a96b0597154b82a6a = L.marker(\n",
       "                [-21.337200164794922, 55.47016525268555],\n",
       "                {}\n",
       "            ).addTo(map_8e12ffaa33915a49d2704d8de0e77fae);\n",
       "        \n",
       "    \n",
       "            var marker_42373daa4c266350d993c095702c4679 = L.marker(\n",
       "                [-21.270498275756836, 55.444210052490234],\n",
       "                {}\n",
       "            ).addTo(map_8e12ffaa33915a49d2704d8de0e77fae);\n",
       "        \n",
       "    \n",
       "            var marker_90bcd90b9bcdb600c282c71afd571d87 = L.marker(\n",
       "                [-21.29415512084961, 55.40273666381836],\n",
       "                {}\n",
       "            ).addTo(map_8e12ffaa33915a49d2704d8de0e77fae);\n",
       "        \n",
       "    \n",
       "            var marker_df77ca45307aa62c14e0d36cbf97b993 = L.marker(\n",
       "                [-21.25843048095703, 55.389373779296875],\n",
       "                {}\n",
       "            ).addTo(map_8e12ffaa33915a49d2704d8de0e77fae);\n",
       "        \n",
       "    \n",
       "            var marker_a60d149af7fc2e921ba98feddd6e92ef = L.marker(\n",
       "                [-21.258338928222656, 55.389286041259766],\n",
       "                {}\n",
       "            ).addTo(map_8e12ffaa33915a49d2704d8de0e77fae);\n",
       "        \n",
       "    \n",
       "            var marker_1a9ea702aae32ae8d876deda0b0a8eec = L.marker(\n",
       "                [-21.293310165405273, 55.51165008544922],\n",
       "                {}\n",
       "            ).addTo(map_8e12ffaa33915a49d2704d8de0e77fae);\n",
       "        \n",
       "    \n",
       "            var marker_6c5cb2fb67c36fd1b7dde8583861c427 = L.marker(\n",
       "                [-21.294687271118164, 55.44704055786133],\n",
       "                {}\n",
       "            ).addTo(map_8e12ffaa33915a49d2704d8de0e77fae);\n",
       "        \n",
       "    \n",
       "            var marker_a5b357cf579a586c42b758cc402cd598 = L.marker(\n",
       "                [-21.276086807250977, 55.41493225097656],\n",
       "                {}\n",
       "            ).addTo(map_8e12ffaa33915a49d2704d8de0e77fae);\n",
       "        \n",
       "    \n",
       "            var marker_c7b41d9e93aa7458b3b4227cb18ab6d5 = L.marker(\n",
       "                [-21.219240188598633, 55.35236358642578],\n",
       "                {}\n",
       "            ).addTo(map_8e12ffaa33915a49d2704d8de0e77fae);\n",
       "        \n",
       "    \n",
       "            var marker_e0d897540dfe5e6a34272b4f93ddb452 = L.marker(\n",
       "                [-21.334503173828125, 55.4716682434082],\n",
       "                {}\n",
       "            ).addTo(map_8e12ffaa33915a49d2704d8de0e77fae);\n",
       "        \n",
       "    \n",
       "            var marker_42f137a75514f053a1b1a7018634e040 = L.marker(\n",
       "                [-21.291948318481445, 55.40434265136719],\n",
       "                {}\n",
       "            ).addTo(map_8e12ffaa33915a49d2704d8de0e77fae);\n",
       "        \n",
       "    \n",
       "            var marker_1d50fc74b6ef22e20d0bfc77071eb8e7 = L.marker(\n",
       "                [-21.290727615356445, 55.412864685058594],\n",
       "                {}\n",
       "            ).addTo(map_8e12ffaa33915a49d2704d8de0e77fae);\n",
       "        \n",
       "&lt;/script&gt;\n",
       "&lt;/html&gt;\" style=\"position:absolute;width:100%;height:100%;left:0;top:0;border:none !important;\" allowfullscreen webkitallowfullscreen mozallowfullscreen></iframe></div></div>"
      ],
      "text/plain": [
       "<folium.folium.Map at 0x7fda2382dcd0>"
      ]
     },
     "execution_count": 12,
     "metadata": {},
     "output_type": "execute_result"
    }
   ],
   "source": [
    "import folium\n",
    "from folium.plugins import MarkerCluster\n",
    "\n",
    "map = folium.Map([-21.34,55.56], zoom_start = 13)\n",
    "\n",
    "# Ajout des positions trouvées sur la carte\n",
    "def create_folium_marker(x):\n",
    "    return folium.Marker(x)\n",
    "\n",
    "folium_markers = [create_folium_marker((lat,long)) for lat,long in zip(vehicles_position[\"latitude\"],vehicles_position[\"longitude\"])]\n",
    "\n",
    "for fm in folium_markers:\n",
    "    fm.add_to(map)\n",
    "map"
   ]
  },
  {
   "cell_type": "code",
   "execution_count": null,
   "id": "78568d05",
   "metadata": {},
   "outputs": [],
   "source": []
  }
 ],
 "metadata": {
  "kernelspec": {
   "display_name": "base",
   "language": "python",
   "name": "python3"
  },
  "language_info": {
   "codemirror_mode": {
    "name": "ipython",
    "version": 3
   },
   "file_extension": ".py",
   "mimetype": "text/x-python",
   "name": "python",
   "nbconvert_exporter": "python",
   "pygments_lexer": "ipython3",
   "version": "3.8.16"
  },
  "toc-autonumbering": true,
  "toc-showcode": true,
  "vscode": {
   "interpreter": {
    "hash": "ec83889880d348e4cec7576575c25ea63040d0f1f7bdbc35ce74b44a05f77670"
   }
  }
 },
 "nbformat": 4,
 "nbformat_minor": 5
}
